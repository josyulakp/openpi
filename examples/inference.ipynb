{
    "cells": [
        {
            "cell_type": "code",
            "execution_count": 1,
            "metadata": {},
            "outputs": [],
            "source": [
                "import dataclasses\n",
                "\n",
                "import jax\n",
                "\n",
                "from openpi.models import model as _model\n",
                "from openpi.policies import droid_policy\n",
                "from openpi.policies import policy_config as _policy_config\n",
                "from openpi.shared import download\n",
                "from openpi.training import config as _config\n",
                "from openpi.training import data_loader as _data_loader\n",
                "import openpi.training.data_loader as _data_loader\n",
                "import openpi.training.sharding as sharding\n"
            ]
        },
        {
            "cell_type": "code",
            "execution_count": null,
            "metadata": {},
            "outputs": [
                {
                    "name": "stdout",
                    "output_type": "stream",
                    "text": [
                        "Automatic pdb calling has been turned ON\n"
                    ]
                }
            ],
            "source": [
                "# %pdb on"
            ]
        },
        {
            "cell_type": "markdown",
            "metadata": {},
            "source": [
                "# Policy inference\n",
                "\n",
                "The following example shows how to create a policy from a checkpoint and run inference on a dummy example."
            ]
        },
        {
            "cell_type": "code",
            "execution_count": 3,
            "metadata": {},
            "outputs": [
                {
                    "data": {
                        "application/vnd.jupyter.widget-view+json": {
                            "model_id": "2a4fdbb6d9594ec3a459645ee68b3445",
                            "version_major": 2,
                            "version_minor": 0
                        },
                        "text/plain": [
                            "Resolving data files:   0%|          | 0/85 [00:00<?, ?it/s]"
                        ]
                    },
                    "metadata": {},
                    "output_type": "display_data"
                }
            ],
            "source": [
                "config = _config.get_config(\"pi0_franka_low_mem_finetune\")\n",
                "\n",
                "checkpoint_dir = \"/mnt/data/josyula/openpi/checkpoints/pi0_franka_low_mem_finetune/my_experiment/29999\" \n",
                "#download.maybe_download(\"gs://openpi-assets/checkpoints/pi0_fast_droid\")\n",
                "\n",
                "# Create a trained policy.\n",
                "policy = _policy_config.create_trained_policy(config, checkpoint_dir)\n",
                "\n",
                "rng = jax.random.key(config.seed)\n",
                "train_rng, init_rng = jax.random.split(rng)\n",
                "\n",
                "mesh = sharding.make_mesh(config.fsdp_devices)\n",
                "data_sharding = jax.sharding.NamedSharding(mesh, jax.sharding.PartitionSpec(sharding.DATA_AXIS))\n",
                "replicated_sharding = jax.sharding.NamedSharding(mesh, jax.sharding.PartitionSpec())\n",
                "\n",
                "data_loader = _data_loader.create_data_loader(\n",
                "    config,\n",
                "    sharding=data_sharding,\n",
                "    shuffle=False,\n",
                ")\n",
                "data_iter = iter(data_loader)\n",
                "batch = next(data_iter)\n",
                "\n",
                "# result = policy.infer(example)\n",
                "\n",
                "# Delete the policy to free up memory.\n",
                "# del policy\n",
                "\n",
                "# print(\"Actions shape:\", result[\"actions\"].shape)"
            ]
        },
        {
            "cell_type": "code",
            "execution_count": 4,
            "metadata": {},
            "outputs": [],
            "source": [
                "import jax.numpy as jnp\n",
                "import numpy as np\n",
                "import torch\n",
                "\n",
                "def to_jax(obj):\n",
                "    \"\"\"Recursively convert arrays/tensors/lists in a nested structure to jnp.array.\"\"\"\n",
                "    if isinstance(obj, dict):\n",
                "        return {k: to_jax(v) for k, v in obj.items()}\n",
                "    elif isinstance(obj, (list, tuple)):\n",
                "        # Preserve tuple type if needed\n",
                "        return type(obj)(to_jax(v) for v in obj)\n",
                "    elif isinstance(obj, torch.Tensor):\n",
                "        return jnp.array(obj.detach().cpu().numpy())\n",
                "    elif isinstance(obj, np.ndarray):\n",
                "        return jnp.array(obj)\n",
                "    else:\n",
                "        return obj\n",
                "\n"
            ]
        },
        {
            "cell_type": "code",
            "execution_count": 5,
            "metadata": {},
            "outputs": [],
            "source": [
                "import numpy as np\n",
                "import torch\n",
                "import jax.numpy as jnp\n",
                "\n",
                "def convert_arrays(obj, target=\"jax\"):\n",
                "    \"\"\"\n",
                "    Recursively convert arrays/tensors/lists in a nested structure to JAX or Torch.\n",
                "\n",
                "    Args:\n",
                "        obj: Any nested combination of dicts/lists/arrays/tensors.\n",
                "        target (str): 'jax' or 'torch' for output type.\n",
                "\n",
                "    Returns:\n",
                "        The converted structure.\n",
                "    \"\"\"\n",
                "    if isinstance(obj, dict):\n",
                "        return {k: convert_arrays(v, target=target) for k, v in obj.items()}\n",
                "    elif isinstance(obj, (list, tuple)):\n",
                "        return type(obj)(convert_arrays(v, target=target) for v in obj)\n",
                "    elif isinstance(obj, torch.Tensor):\n",
                "        np_arr = obj.detach().cpu().numpy()\n",
                "        return jnp.array(np_arr) if target == \"jax\" else torch.from_numpy(np_arr)\n",
                "    elif isinstance(obj, np.ndarray):\n",
                "        return jnp.array(obj) if target == \"jax\" else torch.from_numpy(obj)\n",
                "    else:\n",
                "        return obj\n",
                "\n"
            ]
        },
        {
            "cell_type": "code",
            "execution_count": 6,
            "metadata": {},
            "outputs": [],
            "source": [
                "import random\n",
                "import random\n",
                "\n",
                "def take_single_sample(obs_dict, idx=None):\n",
                "    \"\"\"\n",
                "    Create a shallow copy of obs_dict containing only one batch element.\n",
                "    Handles missing or None fields gracefully.\n",
                "    \"\"\"\n",
                "    out = dict(obs_dict)  # shallow copy\n",
                "\n",
                "    # pick index\n",
                "    if idx is None:\n",
                "        first_img = next(iter(obs_dict[\"images\"].values()))\n",
                "        B = first_img.shape[0]\n",
                "        idx = random.randrange(B)\n",
                "\n",
                "    # slice images\n",
                "    out[\"images\"] = {k: v[idx] for k, v in obs_dict[\"images\"].items()}\n",
                "\n",
                "    # slice optional dict-of-arrays fields\n",
                "    if \"image_mask\" in obs_dict and obs_dict[\"image_mask\"] is not None:\n",
                "        out[\"image_mask\"] = {k: v[idx] for k, v in obs_dict[\"image_mask\"].items()}\n",
                "\n",
                "    # slice optional array fields\n",
                "    for key in [\n",
                "        \"state\",\n",
                "        \"tokenized_prompt\",\n",
                "        \"tokenized_prompt_mask\",\n",
                "        \"token_ar_mask\",\n",
                "        \"token_loss_mask\",\n",
                "        \"actions\",\n",
                "    ]:\n",
                "        if key in obs_dict and obs_dict[key] is not None:\n",
                "            out[key] = obs_dict[key][idx]\n",
                "\n",
                "    return out, idx\n"
            ]
        },
        {
            "cell_type": "code",
            "execution_count": 7,
            "metadata": {},
            "outputs": [
                {
                    "name": "stdout",
                    "output_type": "stream",
                    "text": [
                        "state\n",
                        "tokenized_prompt\n",
                        "tokenized_prompt_mask\n",
                        "token_ar_mask\n",
                        "token_loss_mask\n",
                        "image\n",
                        "image.base_0_rgb\n",
                        "image.left_wrist_0_rgb\n",
                        "image.right_wrist_0_rgb\n",
                        "image_mask\n",
                        "image_mask.base_0_rgb\n",
                        "image_mask.left_wrist_0_rgb\n",
                        "image_mask.right_wrist_0_rgb\n",
                        "images\n",
                        "images.base_0_rgb\n",
                        "images.left_wrist_0_rgb\n",
                        "images.right_wrist_0_rgb\n"
                    ]
                }
            ],
            "source": [
                "def print_keys_recursive(d, prefix=\"\"):\n",
                "    if isinstance(d, dict):\n",
                "        for k, v in d.items():\n",
                "            full_key = f\"{prefix}.{k}\" if prefix else k\n",
                "            print(full_key)\n",
                "            print_keys_recursive(v, prefix=full_key)\n",
                "\n",
                "# Example usage\n",
                "new_dict = batch[0].to_dict()\n",
                "new_dict[\"images\"] = new_dict[\"image\"]\n",
                "\n",
                "print_keys_recursive(new_dict)\n",
                "\n",
                "# # for key in new_dict[\"images\"].keys(): \n",
                "# #     print(\"shape is \", new_dict[\"images\"][key].shape)\n",
                "new_dict_torch = convert_arrays(new_dict, target=\"torch\")\n",
                "single_dict, chosen_idx = take_single_sample(new_dict_torch)  # or take_single_sample(new_dict_torch, idx=0)\n",
                "# print(\"Picked index:\", chosen_idx)\n",
                "# for k, v in single_dict[\"images\"].items():\n",
                "#     print(k, v.shape)  # now (C, H, W) or (H, W, C) depending on your data\n",
                "\n",
                "# "
            ]
        },
        {
            "cell_type": "code",
            "execution_count": 8,
            "metadata": {},
            "outputs": [],
            "source": [
                "def pad_vector(vector, new_dim):\n",
                "    \"\"\"Pads the last dimension of a vector to `new_dim` with zeros.\"\"\"\n",
                "    current_dim = vector.shape[-1]\n",
                "    if current_dim == new_dim:\n",
                "        return vector  # OK during tracing\n",
                "\n",
                "    pad_width = [(0, 0)] * vector.ndim\n",
                "    pad_width[-1] = (0, new_dim - current_dim)\n",
                "    return jnp.pad(vector, pad_width, mode=\"constant\")"
            ]
        },
        {
            "cell_type": "code",
            "execution_count": 9,
            "metadata": {},
            "outputs": [
                {
                    "name": "stdout",
                    "output_type": "stream",
                    "text": [
                        "(32,)\n",
                        "stats.std shape  (8,)\n",
                        "x shape  (10, 32)\n",
                        "stats.mean shape  (8,)\n"
                    ]
                },
                {
                    "data": {
                        "text/plain": [
                            "array([[ 2.37385526e-02,  1.86081792e-01,  1.21667742e-02,\n",
                            "        -2.57891323e+00, -1.18848384e-01,  3.08934758e+00,\n",
                            "         8.66676721e-01,  1.05411286e+00,  9.87530742e-04,\n",
                            "        -1.63340732e-03,  1.46769134e-03,  1.45018246e-04,\n",
                            "         1.63424178e-03,  1.79445923e-03, -4.39793311e-04,\n",
                            "        -5.68688484e-04,  6.18458413e-04,  1.41337655e-04,\n",
                            "         4.84109409e-04,  1.19710088e-03,  4.51088403e-04,\n",
                            "        -4.72009654e-04, -7.24793205e-04, -2.63154770e-04,\n",
                            "         1.33228435e-03, -2.72572313e-04, -7.63357449e-04,\n",
                            "         3.07441065e-04, -6.18458413e-04, -3.61130003e-05,\n",
                            "        -4.38929043e-04,  2.91216665e-03],\n",
                            "       [ 2.41655590e-02,  1.86388751e-01,  1.36677216e-02,\n",
                            "        -2.57866729e+00, -1.19059219e-01,  3.08984818e+00,\n",
                            "         8.67079913e-01,  1.05342753e+00, -4.48465796e-04,\n",
                            "         6.44803692e-04,  8.19296464e-04,  1.73276836e-03,\n",
                            "        -1.33812561e-05,  1.79982365e-03, -1.33657589e-03,\n",
                            "        -6.72400670e-04, -2.30282775e-04, -9.86696276e-04,\n",
                            "        -5.43296880e-04,  6.68049527e-04, -5.29408984e-04,\n",
                            "         4.31180431e-04,  1.99780068e-04,  2.91586214e-04,\n",
                            "         6.42628120e-04,  1.76727948e-04,  6.35207335e-04,\n",
                            "         8.61168769e-04, -6.48648195e-04,  1.46069524e-03,\n",
                            "         2.27689971e-05,  9.40621840e-04],\n",
                            "       [ 2.36593770e-02,  1.86353159e-01,  1.20619862e-02,\n",
                            "        -2.57868135e+00, -1.18892964e-01,  3.09138058e+00,\n",
                            "         8.67568816e-01,  1.05235793e+00, -1.50788773e-03,\n",
                            "         3.69280946e-04,  1.00442309e-03, -1.17188809e-03,\n",
                            "        -1.68156792e-03,  1.54736793e-03,  5.03808764e-04,\n",
                            "         4.58598595e-04,  9.61066253e-04,  7.49946391e-04,\n",
                            "         1.34045020e-03,  2.58535405e-06,  7.61330889e-04,\n",
                            "        -1.82140056e-03,  2.35486266e-03, -2.34127279e-04,\n",
                            "         2.41518262e-04, -1.44261266e-03,  1.84053367e-03,\n",
                            "        -1.07138711e-03, -3.36245039e-05, -8.70794929e-04,\n",
                            "         8.01474657e-04, -9.01223130e-05],\n",
                            "       [ 2.40285761e-02,  1.87563984e-01,  1.32999459e-02,\n",
                            "        -2.57851321e+00, -1.18716431e-01,  3.09185617e+00,\n",
                            "         8.67381190e-01,  1.05305717e+00, -4.81486802e-04,\n",
                            "        -2.84537958e-05,  1.12754219e-03,  3.93033421e-04,\n",
                            "        -4.00662823e-04,  5.74589350e-04, -1.12938994e-03,\n",
                            "         7.19667201e-04,  8.07047697e-05, -7.33262661e-04,\n",
                            "         1.27035506e-03,  2.07931011e-04, -1.58004621e-04,\n",
                            "        -1.80995645e-03,  7.31051699e-04, -3.21865404e-06,\n",
                            "        -3.00169291e-04, -1.65447758e-04, -2.99215616e-05,\n",
                            "         1.26958020e-04,  1.39534613e-04,  1.51038321e-04,\n",
                            "         3.76403708e-04, -3.67634366e-04],\n",
                            "       [ 2.39788917e-02,  1.87094115e-01,  1.43454347e-02,\n",
                            "        -2.57931670e+00, -1.18497912e-01,  3.09269705e+00,\n",
                            "         8.67241102e-01,  1.05231658e+00, -2.82526299e-05,\n",
                            "        -2.51591457e-04,  1.58094028e-03, -2.84314440e-04,\n",
                            "        -1.25509626e-03, -5.42045182e-04, -8.15749984e-04,\n",
                            "         4.58725255e-04,  2.76923457e-04,  7.32661026e-04,\n",
                            "         1.66332888e-03, -9.53496456e-04,  5.46768854e-04,\n",
                            "        -7.77349653e-04,  1.33907929e-03, -3.27051013e-04,\n",
                            "         6.93679550e-04, -7.92682964e-04,  1.66091489e-03,\n",
                            "        -6.38619704e-04,  5.47499012e-04,  5.92142936e-04,\n",
                            "        -7.93577034e-04,  1.64032146e-04],\n",
                            "       [ 2.39925771e-02,  1.87959287e-01,  1.29015162e-02,\n",
                            "        -2.57978479e+00, -1.19087178e-01,  3.09347107e+00,\n",
                            "         8.67602003e-01,  1.05266182e+00, -3.56138109e-04,\n",
                            "         1.01184946e-03,  8.03829043e-04, -7.08461516e-04,\n",
                            "         1.12414472e-04,  2.40057947e-05, -9.98766229e-04,\n",
                            "         5.39139452e-04,  1.48260742e-03, -1.30796563e-03,\n",
                            "         9.06825972e-04, -9.89497697e-04,  6.07252728e-04,\n",
                            "        -5.84245312e-04,  3.53098269e-04, -6.96778994e-04,\n",
                            "        -1.27375253e-04, -3.25173465e-04,  1.24669200e-03,\n",
                            "         3.87415677e-04, -9.66549886e-04, -1.91450310e-04,\n",
                            "        -9.46403496e-04, -2.27928390e-04],\n",
                            "       [ 2.37736102e-02,  1.88453649e-01,  1.41319964e-02,\n",
                            "        -2.57963437e+00, -1.18679468e-01,  3.09333198e+00,\n",
                            "         8.67305906e-01,  1.05404549e+00, -6.74606044e-04,\n",
                            "         1.75392803e-03,  6.92725874e-04,  5.10693107e-04,\n",
                            "         1.21677044e-03,  1.72893131e-03,  1.19002282e-03,\n",
                            "         2.77257243e-03,  2.06440894e-04,  3.24249592e-05,\n",
                            "         1.79624737e-03, -1.49178654e-03, -9.48891993e-04,\n",
                            "         5.41702455e-04, -2.70760330e-03,  6.61969847e-04,\n",
                            "        -3.87207061e-04, -1.17230533e-03,  6.90699314e-04,\n",
                            "        -9.63212023e-05, -6.43611598e-04, -8.97527639e-04,\n",
                            "        -6.61850637e-04,  9.60112578e-04],\n",
                            "       [ 2.42438757e-02,  1.88896850e-01,  1.42360486e-02,\n",
                            "        -2.57931944e+00, -1.18607914e-01,  3.09319450e+00,\n",
                            "         8.67243890e-01,  1.05267396e+00, -1.06752026e-04,\n",
                            "        -7.89702728e-04,  1.58739249e-03,  8.40843565e-04,\n",
                            "        -7.85858225e-04,  8.93206297e-04, -6.61612219e-04,\n",
                            "         4.58598595e-04, -6.21021415e-04, -8.90494283e-05,\n",
                            "         2.43656953e-03,  3.31849192e-04, -1.12561994e-03,\n",
                            "         4.36187227e-04, -4.64857089e-04, -6.45876577e-04,\n",
                            "         1.33216514e-04, -1.58071676e-04,  7.96676479e-04,\n",
                            "        -8.22038280e-04, -1.36092441e-04, -1.26361973e-05,\n",
                            "         3.79741572e-04,  3.13639954e-04],\n",
                            "       [ 2.40595957e-02,  1.88845679e-01,  1.36793088e-02,\n",
                            "        -2.57926701e+00, -1.17995450e-01,  3.09588942e+00,\n",
                            "         8.67346397e-01,  1.05369143e+00, -1.26838811e-03,\n",
                            "        -6.07908380e-04,  2.24375949e-03,  5.38230481e-04,\n",
                            "        -1.19817377e-03,  4.10139971e-03,  1.82628814e-04,\n",
                            "         5.87583176e-04,  1.32513179e-03,  9.24265587e-04,\n",
                            "         1.58393541e-03,  8.61168769e-04,  3.30448481e-04,\n",
                            "         1.40555344e-04, -1.24931460e-04, -9.11653953e-04,\n",
                            "         1.85105390e-03, -1.58620039e-03, -3.89457138e-04,\n",
                            "        -1.63638755e-03,  8.80838321e-04, -4.57406501e-04,\n",
                            "        -5.61059082e-04, -1.72108584e-04],\n",
                            "       [ 2.44113569e-02,  1.89511443e-01,  1.35340329e-02,\n",
                            "        -2.57919788e+00, -1.18182021e-01,  3.09630499e+00,\n",
                            "         8.67546285e-01,  1.05424344e+00, -2.87854959e-03,\n",
                            "        -1.80769147e-03,  7.15733290e-04,  1.01852519e-03,\n",
                            "         5.67928525e-04,  4.71324200e-04,  2.23890171e-05,\n",
                            "        -2.32577556e-04, -6.97971088e-05,  5.75185397e-04,\n",
                            "         8.44874333e-04,  4.04276358e-04,  9.87173114e-04,\n",
                            "         2.13742470e-03,  1.89542960e-03,  1.63722202e-03,\n",
                            "         1.57988229e-03, -4.14357004e-04, -1.53958951e-04,\n",
                            "        -3.65466245e-04, -8.54135414e-04,  1.63018866e-04,\n",
                            "        -6.96182947e-05,  2.38597632e-03]])"
                        ]
                    },
                    "execution_count": 9,
                    "metadata": {},
                    "output_type": "execute_result"
                }
            ],
            "source": [
                "single_dict[\"state\"] = pad_vector(single_dict[\"state\"], 32)  \n",
                "print(single_dict[\"state\"].shape)\n",
                "single_dict[\"prompt\"] = \"0\"\n",
                "policy.infer(single_dict)[\"actions\"]"
            ]
        },
        {
            "cell_type": "markdown",
            "metadata": {},
            "source": [
                "# Working with a live model\n",
                "\n",
                "\n",
                "The following example shows how to create a live model from a checkpoint and compute training loss. First, we are going to demonstrate how to do it with fake data.\n"
            ]
        },
        {
            "cell_type": "code",
            "execution_count": null,
            "metadata": {},
            "outputs": [
                {
                    "name": "stderr",
                    "output_type": "stream",
                    "text": [
                        "2025-08-13 13:32:11.042224: W external/xla/xla/tsl/framework/bfc_allocator.cc:501] Allocator (GPU_0_bfc) ran out of memory trying to allocate 1.96GiB (rounded to 2106589184)requested by op \n",
                        "2025-08-13 13:32:11.042582: W external/xla/xla/tsl/framework/bfc_allocator.cc:512] ***************************************************************************************************_\n"
                    ]
                },
                {
                    "ename": "XlaRuntimeError",
                    "evalue": "RESOURCE_EXHAUSTED: Out of memory while trying to allocate 2106589184 bytes.",
                    "output_type": "error",
                    "traceback": [
                        "\u001b[31m---------------------------------------------------------------------------\u001b[39m",
                        "\u001b[31mXlaRuntimeError\u001b[39m                           Traceback (most recent call last)",
                        "\u001b[36mCell\u001b[39m\u001b[36m \u001b[39m\u001b[32mIn[10]\u001b[39m\u001b[32m, line 7\u001b[39m\n\u001b[32m      4\u001b[39m key = jax.random.key(\u001b[32m0\u001b[39m)\n\u001b[32m      6\u001b[39m \u001b[38;5;66;03m# Create a model from the checkpoint.\u001b[39;00m\n\u001b[32m----> \u001b[39m\u001b[32m7\u001b[39m model = config.model.load(\u001b[43m_model\u001b[49m\u001b[43m.\u001b[49m\u001b[43mrestore_params\u001b[49m\u001b[43m(\u001b[49m\u001b[43mcheckpoint_dir\u001b[49m\u001b[43m \u001b[49m\u001b[43m/\u001b[49m\u001b[43m \u001b[49m\u001b[33;43m\"\u001b[39;49m\u001b[33;43mparams\u001b[39;49m\u001b[33;43m\"\u001b[39;49m\u001b[43m)\u001b[49m)\n\u001b[32m      9\u001b[39m \u001b[38;5;66;03m# We can create fake observations and actions to test the model.\u001b[39;00m\n\u001b[32m     10\u001b[39m obs, act = config.model.fake_obs(), config.model.fake_act()\n",
                        "\u001b[36mFile \u001b[39m\u001b[32m/mnt/data/josyula/openpi/src/openpi/models/model.py:323\u001b[39m, in \u001b[36mrestore_params\u001b[39m\u001b[34m(params_path, restore_type, dtype, sharding)\u001b[39m\n\u001b[32m    320\u001b[39m     metadata = ckptr.metadata(params_path)\n\u001b[32m    321\u001b[39m     item = {\u001b[33m\"\u001b[39m\u001b[33mparams\u001b[39m\u001b[33m\"\u001b[39m: metadata[\u001b[33m\"\u001b[39m\u001b[33mparams\u001b[39m\u001b[33m\"\u001b[39m]}\n\u001b[32m--> \u001b[39m\u001b[32m323\u001b[39m     params = \u001b[43mckptr\u001b[49m\u001b[43m.\u001b[49m\u001b[43mrestore\u001b[49m\u001b[43m(\u001b[49m\n\u001b[32m    324\u001b[39m \u001b[43m        \u001b[49m\u001b[43mparams_path\u001b[49m\u001b[43m,\u001b[49m\n\u001b[32m    325\u001b[39m \u001b[43m        \u001b[49m\u001b[43mocp\u001b[49m\u001b[43m.\u001b[49m\u001b[43margs\u001b[49m\u001b[43m.\u001b[49m\u001b[43mPyTreeRestore\u001b[49m\u001b[43m(\u001b[49m\n\u001b[32m    326\u001b[39m \u001b[43m            \u001b[49m\u001b[43mitem\u001b[49m\u001b[43m=\u001b[49m\u001b[43mitem\u001b[49m\u001b[43m,\u001b[49m\n\u001b[32m    327\u001b[39m \u001b[43m            \u001b[49m\u001b[43mrestore_args\u001b[49m\u001b[43m=\u001b[49m\u001b[43mjax\u001b[49m\u001b[43m.\u001b[49m\u001b[43mtree\u001b[49m\u001b[43m.\u001b[49m\u001b[43mmap\u001b[49m\u001b[43m(\u001b[49m\n\u001b[32m    328\u001b[39m \u001b[43m                \u001b[49m\u001b[38;5;28;43;01mlambda\u001b[39;49;00m\u001b[43m \u001b[49m\u001b[43m_\u001b[49m\u001b[43m:\u001b[49m\u001b[43m \u001b[49m\u001b[43mocp\u001b[49m\u001b[43m.\u001b[49m\u001b[43mArrayRestoreArgs\u001b[49m\u001b[43m(\u001b[49m\u001b[43msharding\u001b[49m\u001b[43m=\u001b[49m\u001b[43msharding\u001b[49m\u001b[43m,\u001b[49m\u001b[43m \u001b[49m\u001b[43mrestore_type\u001b[49m\u001b[43m=\u001b[49m\u001b[43mrestore_type\u001b[49m\u001b[43m,\u001b[49m\u001b[43m \u001b[49m\u001b[43mdtype\u001b[49m\u001b[43m=\u001b[49m\u001b[43mdtype\u001b[49m\u001b[43m)\u001b[49m\u001b[43m,\u001b[49m\u001b[43m \u001b[49m\u001b[43mitem\u001b[49m\n\u001b[32m    329\u001b[39m \u001b[43m            \u001b[49m\u001b[43m)\u001b[49m\u001b[43m,\u001b[49m\n\u001b[32m    330\u001b[39m \u001b[43m        \u001b[49m\u001b[43m)\u001b[49m\u001b[43m,\u001b[49m\n\u001b[32m    331\u001b[39m \u001b[43m    \u001b[49m\u001b[43m)\u001b[49m[\u001b[33m\"\u001b[39m\u001b[33mparams\u001b[39m\u001b[33m\"\u001b[39m]\n\u001b[32m    333\u001b[39m \u001b[38;5;66;03m# If the params were saved with `save_state` during openpi training, every key path will end with \"value\", which is\u001b[39;00m\n\u001b[32m    334\u001b[39m \u001b[38;5;66;03m# added by `nnx.State`. We remove the \"value\" suffix here and always return what NNX calls a \"pure dict\".\u001b[39;00m\n\u001b[32m    335\u001b[39m flat_params = traverse_util.flatten_dict(params)\n",
                        "\u001b[36mFile \u001b[39m\u001b[32m/mnt/data/josyula/openpi/.venv/lib/python3.11/site-packages/orbax/checkpoint/_src/checkpointers/checkpointer.py:300\u001b[39m, in \u001b[36mCheckpointer.restore\u001b[39m\u001b[34m(self, directory, *args, **kwargs)\u001b[39m\n\u001b[32m    298\u001b[39m logging.info(\u001b[33m'\u001b[39m\u001b[33mRestoring checkpoint from \u001b[39m\u001b[38;5;132;01m%s\u001b[39;00m\u001b[33m.\u001b[39m\u001b[33m'\u001b[39m, directory)\n\u001b[32m    299\u001b[39m ckpt_args = construct_checkpoint_args(\u001b[38;5;28mself\u001b[39m._handler, \u001b[38;5;28;01mFalse\u001b[39;00m, *args, **kwargs)\n\u001b[32m--> \u001b[39m\u001b[32m300\u001b[39m restored = \u001b[38;5;28;43mself\u001b[39;49m\u001b[43m.\u001b[49m\u001b[43m_restore\u001b[49m\u001b[43m(\u001b[49m\u001b[43mdirectory\u001b[49m\u001b[43m,\u001b[49m\u001b[43m \u001b[49m\u001b[43margs\u001b[49m\u001b[43m=\u001b[49m\u001b[43mckpt_args\u001b[49m\u001b[43m)\u001b[49m\n\u001b[32m    301\u001b[39m multihost.sync_global_processes(\n\u001b[32m    302\u001b[39m     multihost.unique_barrier_key(\n\u001b[32m    303\u001b[39m         \u001b[33m'\u001b[39m\u001b[33mCheckpointer:restore\u001b[39m\u001b[33m'\u001b[39m,\n\u001b[32m   (...)\u001b[39m\u001b[32m    306\u001b[39m     processes=\u001b[38;5;28mself\u001b[39m._active_processes,\n\u001b[32m    307\u001b[39m )\n\u001b[32m    308\u001b[39m restore_duration_secs = time.time() - restore_start_time\n",
                        "\u001b[36mFile \u001b[39m\u001b[32m/mnt/data/josyula/openpi/.venv/lib/python3.11/site-packages/orbax/checkpoint/_src/checkpointers/checkpointer.py:319\u001b[39m, in \u001b[36mCheckpointer._restore\u001b[39m\u001b[34m(self, directory, args)\u001b[39m\n\u001b[32m    316\u001b[39m \u001b[38;5;28;01mdef\u001b[39;00m\u001b[38;5;250m \u001b[39m\u001b[34m_restore\u001b[39m(\n\u001b[32m    317\u001b[39m     \u001b[38;5;28mself\u001b[39m, directory: epath.PathLike, args: checkpoint_args.CheckpointArgs\n\u001b[32m    318\u001b[39m ) -> Any:\n\u001b[32m--> \u001b[39m\u001b[32m319\u001b[39m   \u001b[38;5;28;01mreturn\u001b[39;00m \u001b[38;5;28;43mself\u001b[39;49m\u001b[43m.\u001b[49m\u001b[43m_handler\u001b[49m\u001b[43m.\u001b[49m\u001b[43mrestore\u001b[49m\u001b[43m(\u001b[49m\u001b[43mdirectory\u001b[49m\u001b[43m,\u001b[49m\u001b[43m \u001b[49m\u001b[43margs\u001b[49m\u001b[43m=\u001b[49m\u001b[43margs\u001b[49m\u001b[43m)\u001b[49m\n",
                        "\u001b[36mFile \u001b[39m\u001b[32m/mnt/data/josyula/openpi/.venv/lib/python3.11/site-packages/orbax/checkpoint/_src/handlers/pytree_checkpoint_handler.py:796\u001b[39m, in \u001b[36mPyTreeCheckpointHandler.restore\u001b[39m\u001b[34m(self, directory, item, restore_args, transforms, transforms_default_to_original, legacy_transform_fn, args)\u001b[39m\n\u001b[32m    786\u001b[39m \u001b[38;5;28;01mif\u001b[39;00m (\n\u001b[32m    787\u001b[39m     (directory / PYTREE_METADATA_FILE).exists()\n\u001b[32m    788\u001b[39m     \u001b[38;5;129;01mand\u001b[39;00m can_ignore_aggregate_file\n\u001b[32m    789\u001b[39m     \u001b[38;5;129;01mand\u001b[39;00m transforms \u001b[38;5;129;01mis\u001b[39;00m \u001b[38;5;28;01mNone\u001b[39;00m\n\u001b[32m    790\u001b[39m     \u001b[38;5;129;01mand\u001b[39;00m legacy_transform_fn \u001b[38;5;129;01mis\u001b[39;00m \u001b[38;5;28;01mNone\u001b[39;00m\n\u001b[32m    791\u001b[39m ):\n\u001b[32m    792\u001b[39m   args = BasePyTreeRestoreArgs(\n\u001b[32m    793\u001b[39m       item,\n\u001b[32m    794\u001b[39m       restore_args=restore_args,\n\u001b[32m    795\u001b[39m   )\n\u001b[32m--> \u001b[39m\u001b[32m796\u001b[39m   \u001b[38;5;28;01mreturn\u001b[39;00m \u001b[38;5;28;43mself\u001b[39;49m\u001b[43m.\u001b[49m\u001b[43m_handler_impl\u001b[49m\u001b[43m.\u001b[49m\u001b[43mrestore\u001b[49m\u001b[43m(\u001b[49m\u001b[43mdirectory\u001b[49m\u001b[43m,\u001b[49m\u001b[43m \u001b[49m\u001b[43margs\u001b[49m\u001b[43m=\u001b[49m\u001b[43margs\u001b[49m\u001b[43m)\u001b[49m\n\u001b[32m    798\u001b[39m logging.vlog(\u001b[32m1\u001b[39m, \u001b[33m'\u001b[39m\u001b[33mdirectory=\u001b[39m\u001b[38;5;132;01m%s\u001b[39;00m\u001b[33m, restore_args=\u001b[39m\u001b[38;5;132;01m%s\u001b[39;00m\u001b[33m'\u001b[39m, directory, restore_args)\n\u001b[32m    799\u001b[39m \u001b[38;5;28;01mif\u001b[39;00m \u001b[38;5;129;01mnot\u001b[39;00m directory.exists():\n",
                        "\u001b[36mFile \u001b[39m\u001b[32m/mnt/data/josyula/openpi/.venv/lib/python3.11/site-packages/orbax/checkpoint/_src/handlers/base_pytree_checkpoint_handler.py:760\u001b[39m, in \u001b[36mBasePyTreeCheckpointHandler.restore\u001b[39m\u001b[34m(self, directory, args)\u001b[39m\n\u001b[32m    752\u001b[39m param_infos = \u001b[38;5;28mself\u001b[39m._get_param_infos(\n\u001b[32m    753\u001b[39m     item=value_metadata_tree,\n\u001b[32m    754\u001b[39m     directory=directory,\n\u001b[32m   (...)\u001b[39m\u001b[32m    757\u001b[39m     raise_array_data_missing_error=raise_array_data_missing_error,\n\u001b[32m    758\u001b[39m )\n\u001b[32m    759\u001b[39m \u001b[38;5;66;03m# Begin restore.\u001b[39;00m\n\u001b[32m--> \u001b[39m\u001b[32m760\u001b[39m tree_memory_size, restored_item = \u001b[43masyncio_utils\u001b[49m\u001b[43m.\u001b[49m\u001b[43mrun_sync\u001b[49m\u001b[43m(\u001b[49m\n\u001b[32m    761\u001b[39m \u001b[43m    \u001b[49m\u001b[38;5;28;43mself\u001b[39;49m\u001b[43m.\u001b[49m\u001b[43m_maybe_deserialize\u001b[49m\u001b[43m(\u001b[49m\n\u001b[32m    762\u001b[39m \u001b[43m        \u001b[49m\u001b[43mitem\u001b[49m\u001b[43m,\u001b[49m\u001b[43m \u001b[49m\u001b[43mvalue_metadata_tree\u001b[49m\u001b[43m,\u001b[49m\u001b[43m \u001b[49m\u001b[43mparam_infos\u001b[49m\u001b[43m,\u001b[49m\u001b[43m \u001b[49m\u001b[43mrestore_args\u001b[49m\n\u001b[32m    763\u001b[39m \u001b[43m    \u001b[49m\u001b[43m)\u001b[49m\n\u001b[32m    764\u001b[39m \u001b[43m\u001b[49m\u001b[43m)\u001b[49m\n\u001b[32m    766\u001b[39m \u001b[38;5;28;01mif\u001b[39;00m logging.vlog_is_on(\u001b[32m1\u001b[39m):\n\u001b[32m    767\u001b[39m   logging.vlog(\u001b[32m1\u001b[39m, \u001b[33m'\u001b[39m\u001b[33mparam_infos: \u001b[39m\u001b[38;5;132;01m%s\u001b[39;00m\u001b[33m'\u001b[39m, param_infos)\n",
                        "\u001b[36mFile \u001b[39m\u001b[32m/mnt/data/josyula/openpi/.venv/lib/python3.11/site-packages/orbax/checkpoint/_src/asyncio_utils.py:50\u001b[39m, in \u001b[36mrun_sync\u001b[39m\u001b[34m(coro, enable_nest_asyncio)\u001b[39m\n\u001b[32m     48\u001b[39m \u001b[38;5;28;01mexcept\u001b[39;00m \u001b[38;5;167;01mRuntimeError\u001b[39;00m:\n\u001b[32m     49\u001b[39m   \u001b[38;5;28;01mpass\u001b[39;00m\n\u001b[32m---> \u001b[39m\u001b[32m50\u001b[39m \u001b[38;5;28;01mreturn\u001b[39;00m \u001b[43masyncio\u001b[49m\u001b[43m.\u001b[49m\u001b[43mrun\u001b[49m\u001b[43m(\u001b[49m\u001b[43mcoro\u001b[49m\u001b[43m)\u001b[49m\n",
                        "\u001b[36mFile \u001b[39m\u001b[32m/mnt/data/josyula/openpi/.venv/lib/python3.11/site-packages/nest_asyncio.py:30\u001b[39m, in \u001b[36m_patch_asyncio.<locals>.run\u001b[39m\u001b[34m(main, debug)\u001b[39m\n\u001b[32m     28\u001b[39m task = asyncio.ensure_future(main)\n\u001b[32m     29\u001b[39m \u001b[38;5;28;01mtry\u001b[39;00m:\n\u001b[32m---> \u001b[39m\u001b[32m30\u001b[39m     \u001b[38;5;28;01mreturn\u001b[39;00m \u001b[43mloop\u001b[49m\u001b[43m.\u001b[49m\u001b[43mrun_until_complete\u001b[49m\u001b[43m(\u001b[49m\u001b[43mtask\u001b[49m\u001b[43m)\u001b[49m\n\u001b[32m     31\u001b[39m \u001b[38;5;28;01mfinally\u001b[39;00m:\n\u001b[32m     32\u001b[39m     \u001b[38;5;28;01mif\u001b[39;00m \u001b[38;5;129;01mnot\u001b[39;00m task.done():\n",
                        "\u001b[36mFile \u001b[39m\u001b[32m/mnt/data/josyula/openpi/.venv/lib/python3.11/site-packages/nest_asyncio.py:98\u001b[39m, in \u001b[36m_patch_loop.<locals>.run_until_complete\u001b[39m\u001b[34m(self, future)\u001b[39m\n\u001b[32m     95\u001b[39m \u001b[38;5;28;01mif\u001b[39;00m \u001b[38;5;129;01mnot\u001b[39;00m f.done():\n\u001b[32m     96\u001b[39m     \u001b[38;5;28;01mraise\u001b[39;00m \u001b[38;5;167;01mRuntimeError\u001b[39;00m(\n\u001b[32m     97\u001b[39m         \u001b[33m'\u001b[39m\u001b[33mEvent loop stopped before Future completed.\u001b[39m\u001b[33m'\u001b[39m)\n\u001b[32m---> \u001b[39m\u001b[32m98\u001b[39m \u001b[38;5;28;01mreturn\u001b[39;00m \u001b[43mf\u001b[49m\u001b[43m.\u001b[49m\u001b[43mresult\u001b[49m\u001b[43m(\u001b[49m\u001b[43m)\u001b[49m\n",
                        "\u001b[36mFile \u001b[39m\u001b[32m~/.local/share/uv/python/cpython-3.11.13-linux-x86_64-gnu/lib/python3.11/asyncio/futures.py:203\u001b[39m, in \u001b[36mFuture.result\u001b[39m\u001b[34m(self)\u001b[39m\n\u001b[32m    201\u001b[39m \u001b[38;5;28mself\u001b[39m.__log_traceback = \u001b[38;5;28;01mFalse\u001b[39;00m\n\u001b[32m    202\u001b[39m \u001b[38;5;28;01mif\u001b[39;00m \u001b[38;5;28mself\u001b[39m._exception \u001b[38;5;129;01mis\u001b[39;00m \u001b[38;5;129;01mnot\u001b[39;00m \u001b[38;5;28;01mNone\u001b[39;00m:\n\u001b[32m--> \u001b[39m\u001b[32m203\u001b[39m     \u001b[38;5;28;01mraise\u001b[39;00m \u001b[38;5;28mself\u001b[39m._exception.with_traceback(\u001b[38;5;28mself\u001b[39m._exception_tb)\n\u001b[32m    204\u001b[39m \u001b[38;5;28;01mreturn\u001b[39;00m \u001b[38;5;28mself\u001b[39m._result\n",
                        "\u001b[36mFile \u001b[39m\u001b[32m~/.local/share/uv/python/cpython-3.11.13-linux-x86_64-gnu/lib/python3.11/asyncio/tasks.py:279\u001b[39m, in \u001b[36mTask.__step\u001b[39m\u001b[34m(***failed resolving arguments***)\u001b[39m\n\u001b[32m    277\u001b[39m         result = coro.send(\u001b[38;5;28;01mNone\u001b[39;00m)\n\u001b[32m    278\u001b[39m     \u001b[38;5;28;01melse\u001b[39;00m:\n\u001b[32m--> \u001b[39m\u001b[32m279\u001b[39m         result = coro.throw(exc)\n\u001b[32m    280\u001b[39m \u001b[38;5;28;01mexcept\u001b[39;00m \u001b[38;5;167;01mStopIteration\u001b[39;00m \u001b[38;5;28;01mas\u001b[39;00m exc:\n\u001b[32m    281\u001b[39m     \u001b[38;5;28;01mif\u001b[39;00m \u001b[38;5;28mself\u001b[39m._must_cancel:\n\u001b[32m    282\u001b[39m         \u001b[38;5;66;03m# Task is cancelled right before coro stops.\u001b[39;00m\n",
                        "\u001b[36mFile \u001b[39m\u001b[32m/mnt/data/josyula/openpi/.venv/lib/python3.11/site-packages/orbax/checkpoint/_src/handlers/base_pytree_checkpoint_handler.py:584\u001b[39m, in \u001b[36mBasePyTreeCheckpointHandler._maybe_deserialize\u001b[39m\u001b[34m(self, item, metadata, param_infos, restore_args)\u001b[39m\n\u001b[32m    580\u001b[39m \u001b[38;5;28;01mfor\u001b[39;00m request \u001b[38;5;129;01min\u001b[39;00m batch_requests:\n\u001b[32m    581\u001b[39m   deserialized_batches_ops.append(\n\u001b[32m    582\u001b[39m       request.handler.deserialize(request.infos, request.args)\n\u001b[32m    583\u001b[39m   )\n\u001b[32m--> \u001b[39m\u001b[32m584\u001b[39m deserialized_batches += \u001b[38;5;28;01mawait\u001b[39;00m asyncio.gather(*deserialized_batches_ops)\n\u001b[32m    586\u001b[39m tree_memory_size = \u001b[32m0\u001b[39m\n\u001b[32m    587\u001b[39m flat_restored = {}\n",
                        "\u001b[36mFile \u001b[39m\u001b[32m~/.local/share/uv/python/cpython-3.11.13-linux-x86_64-gnu/lib/python3.11/asyncio/tasks.py:349\u001b[39m, in \u001b[36mTask.__wakeup\u001b[39m\u001b[34m(self, future)\u001b[39m\n\u001b[32m    347\u001b[39m \u001b[38;5;28;01mdef\u001b[39;00m\u001b[38;5;250m \u001b[39m\u001b[34m__wakeup\u001b[39m(\u001b[38;5;28mself\u001b[39m, future):\n\u001b[32m    348\u001b[39m     \u001b[38;5;28;01mtry\u001b[39;00m:\n\u001b[32m--> \u001b[39m\u001b[32m349\u001b[39m         \u001b[43mfuture\u001b[49m\u001b[43m.\u001b[49m\u001b[43mresult\u001b[49m\u001b[43m(\u001b[49m\u001b[43m)\u001b[49m\n\u001b[32m    350\u001b[39m     \u001b[38;5;28;01mexcept\u001b[39;00m \u001b[38;5;167;01mBaseException\u001b[39;00m \u001b[38;5;28;01mas\u001b[39;00m exc:\n\u001b[32m    351\u001b[39m         \u001b[38;5;66;03m# This may also be a cancellation.\u001b[39;00m\n\u001b[32m    352\u001b[39m         \u001b[38;5;28mself\u001b[39m.__step(exc)\n",
                        "\u001b[36mFile \u001b[39m\u001b[32m~/.local/share/uv/python/cpython-3.11.13-linux-x86_64-gnu/lib/python3.11/asyncio/tasks.py:279\u001b[39m, in \u001b[36mTask.__step\u001b[39m\u001b[34m(***failed resolving arguments***)\u001b[39m\n\u001b[32m    277\u001b[39m         result = coro.send(\u001b[38;5;28;01mNone\u001b[39;00m)\n\u001b[32m    278\u001b[39m     \u001b[38;5;28;01melse\u001b[39;00m:\n\u001b[32m--> \u001b[39m\u001b[32m279\u001b[39m         result = coro.throw(exc)\n\u001b[32m    280\u001b[39m \u001b[38;5;28;01mexcept\u001b[39;00m \u001b[38;5;167;01mStopIteration\u001b[39;00m \u001b[38;5;28;01mas\u001b[39;00m exc:\n\u001b[32m    281\u001b[39m     \u001b[38;5;28;01mif\u001b[39;00m \u001b[38;5;28mself\u001b[39m._must_cancel:\n\u001b[32m    282\u001b[39m         \u001b[38;5;66;03m# Task is cancelled right before coro stops.\u001b[39;00m\n",
                        "\u001b[36mFile \u001b[39m\u001b[32m/mnt/data/josyula/openpi/.venv/lib/python3.11/site-packages/orbax/checkpoint/_src/serialization/type_handlers.py:1314\u001b[39m, in \u001b[36mArrayHandler.deserialize\u001b[39m\u001b[34m(self, infos, args)\u001b[39m\n\u001b[32m   1308\u001b[39m \u001b[38;5;28;01mif\u001b[39;00m \u001b[38;5;28mself\u001b[39m._array_metadata_store \u001b[38;5;129;01mis\u001b[39;00m \u001b[38;5;129;01mnot\u001b[39;00m \u001b[38;5;28;01mNone\u001b[39;00m:\n\u001b[32m   1309\u001b[39m   deserialize_ops.append(\n\u001b[32m   1310\u001b[39m       \u001b[38;5;28mself\u001b[39m._array_metadata_store.read(\n\u001b[32m   1311\u001b[39m           checkpoint_dir=infos[\u001b[32m0\u001b[39m].parent_dir,\n\u001b[32m   1312\u001b[39m       )\n\u001b[32m   1313\u001b[39m   )\n\u001b[32m-> \u001b[39m\u001b[32m1314\u001b[39m   *ret, array_metadatas = \u001b[38;5;28;01mawait\u001b[39;00m asyncio.gather(*deserialize_ops)\n\u001b[32m   1316\u001b[39m   \u001b[38;5;28;01mif\u001b[39;00m array_metadatas:\n\u001b[32m   1317\u001b[39m     ret = \u001b[38;5;28mself\u001b[39m._parse_array_metadatas(array_metadatas, infos, ret)\n",
                        "\u001b[36mFile \u001b[39m\u001b[32m~/.local/share/uv/python/cpython-3.11.13-linux-x86_64-gnu/lib/python3.11/asyncio/tasks.py:349\u001b[39m, in \u001b[36mTask.__wakeup\u001b[39m\u001b[34m(self, future)\u001b[39m\n\u001b[32m    347\u001b[39m \u001b[38;5;28;01mdef\u001b[39;00m\u001b[38;5;250m \u001b[39m\u001b[34m__wakeup\u001b[39m(\u001b[38;5;28mself\u001b[39m, future):\n\u001b[32m    348\u001b[39m     \u001b[38;5;28;01mtry\u001b[39;00m:\n\u001b[32m--> \u001b[39m\u001b[32m349\u001b[39m         \u001b[43mfuture\u001b[49m\u001b[43m.\u001b[49m\u001b[43mresult\u001b[49m\u001b[43m(\u001b[49m\u001b[43m)\u001b[49m\n\u001b[32m    350\u001b[39m     \u001b[38;5;28;01mexcept\u001b[39;00m \u001b[38;5;167;01mBaseException\u001b[39;00m \u001b[38;5;28;01mas\u001b[39;00m exc:\n\u001b[32m    351\u001b[39m         \u001b[38;5;66;03m# This may also be a cancellation.\u001b[39;00m\n\u001b[32m    352\u001b[39m         \u001b[38;5;28mself\u001b[39m.__step(exc)\n",
                        "\u001b[36mFile \u001b[39m\u001b[32m~/.local/share/uv/python/cpython-3.11.13-linux-x86_64-gnu/lib/python3.11/asyncio/tasks.py:279\u001b[39m, in \u001b[36mTask.__step\u001b[39m\u001b[34m(***failed resolving arguments***)\u001b[39m\n\u001b[32m    277\u001b[39m         result = coro.send(\u001b[38;5;28;01mNone\u001b[39;00m)\n\u001b[32m    278\u001b[39m     \u001b[38;5;28;01melse\u001b[39;00m:\n\u001b[32m--> \u001b[39m\u001b[32m279\u001b[39m         result = coro.throw(exc)\n\u001b[32m    280\u001b[39m \u001b[38;5;28;01mexcept\u001b[39;00m \u001b[38;5;167;01mStopIteration\u001b[39;00m \u001b[38;5;28;01mas\u001b[39;00m exc:\n\u001b[32m    281\u001b[39m     \u001b[38;5;28;01mif\u001b[39;00m \u001b[38;5;28mself\u001b[39m._must_cancel:\n\u001b[32m    282\u001b[39m         \u001b[38;5;66;03m# Task is cancelled right before coro stops.\u001b[39;00m\n",
                        "\u001b[36mFile \u001b[39m\u001b[32m/mnt/data/josyula/openpi/.venv/lib/python3.11/site-packages/orbax/checkpoint/_src/serialization/serialization.py:544\u001b[39m, in \u001b[36masync_deserialize\u001b[39m\u001b[34m(user_sharding, tensorstore_spec, global_shape, dtype, byte_limiter, context, assume_metadata, strict)\u001b[39m\n\u001b[32m    542\u001b[39m global_shape = \u001b[38;5;28mtuple\u001b[39m(t.shape \u001b[38;5;28;01mif\u001b[39;00m global_shape \u001b[38;5;129;01mis\u001b[39;00m \u001b[38;5;28;01mNone\u001b[39;00m \u001b[38;5;28;01melse\u001b[39;00m global_shape)\n\u001b[32m    543\u001b[39m new_shard_shape = sharding.shard_shape(global_shape)\n\u001b[32m--> \u001b[39m\u001b[32m544\u001b[39m \u001b[38;5;28;01mreturn\u001b[39;00m \u001b[38;5;28;01mawait\u001b[39;00m read_and_create_array(\n\u001b[32m    545\u001b[39m     t,\n\u001b[32m    546\u001b[39m     global_shape=global_shape,\n\u001b[32m    547\u001b[39m     new_shard_shape=new_shard_shape,\n\u001b[32m    548\u001b[39m     sharding=sharding,\n\u001b[32m    549\u001b[39m     dtype=dtype,\n\u001b[32m    550\u001b[39m     byte_limiter=byte_limiter,\n\u001b[32m    551\u001b[39m     strict=strict,\n\u001b[32m    552\u001b[39m     dll=dll,\n\u001b[32m    553\u001b[39m )\n",
                        "\u001b[36mFile \u001b[39m\u001b[32m/mnt/data/josyula/openpi/.venv/lib/python3.11/site-packages/orbax/checkpoint/_src/serialization/serialization.py:503\u001b[39m, in \u001b[36mread_and_create_array\u001b[39m\u001b[34m(t, global_shape, new_shard_shape, sharding, dtype, byte_limiter, strict, dll)\u001b[39m\n\u001b[32m    484\u001b[39m     local_indices_devices_map[\n\u001b[32m    485\u001b[39m         np_utils.to_hashable_index(idx, shape=global_shape)\n\u001b[32m    486\u001b[39m     ].append(d)\n\u001b[32m    488\u001b[39m read_array_coros = [\n\u001b[32m    489\u001b[39m     _read_array_index_and_device_put(\n\u001b[32m    490\u001b[39m         devices,\n\u001b[32m   (...)\u001b[39m\u001b[32m    501\u001b[39m     \u001b[38;5;28;01mfor\u001b[39;00m idx, devices \u001b[38;5;129;01min\u001b[39;00m local_indices_devices_map.items()\n\u001b[32m    502\u001b[39m ]\n\u001b[32m--> \u001b[39m\u001b[32m503\u001b[39m dbs = \u001b[38;5;28msum\u001b[39m(\u001b[38;5;28;01mawait\u001b[39;00m asyncio.gather(*read_array_coros), [])\n\u001b[32m    504\u001b[39m \u001b[38;5;28;01mreturn\u001b[39;00m jax.make_array_from_single_device_arrays(global_shape, sharding, dbs)\n",
                        "\u001b[36mFile \u001b[39m\u001b[32m~/.local/share/uv/python/cpython-3.11.13-linux-x86_64-gnu/lib/python3.11/asyncio/tasks.py:349\u001b[39m, in \u001b[36mTask.__wakeup\u001b[39m\u001b[34m(self, future)\u001b[39m\n\u001b[32m    347\u001b[39m \u001b[38;5;28;01mdef\u001b[39;00m\u001b[38;5;250m \u001b[39m\u001b[34m__wakeup\u001b[39m(\u001b[38;5;28mself\u001b[39m, future):\n\u001b[32m    348\u001b[39m     \u001b[38;5;28;01mtry\u001b[39;00m:\n\u001b[32m--> \u001b[39m\u001b[32m349\u001b[39m         \u001b[43mfuture\u001b[49m\u001b[43m.\u001b[49m\u001b[43mresult\u001b[49m\u001b[43m(\u001b[49m\u001b[43m)\u001b[49m\n\u001b[32m    350\u001b[39m     \u001b[38;5;28;01mexcept\u001b[39;00m \u001b[38;5;167;01mBaseException\u001b[39;00m \u001b[38;5;28;01mas\u001b[39;00m exc:\n\u001b[32m    351\u001b[39m         \u001b[38;5;66;03m# This may also be a cancellation.\u001b[39;00m\n\u001b[32m    352\u001b[39m         \u001b[38;5;28mself\u001b[39m.__step(exc)\n",
                        "\u001b[36mFile \u001b[39m\u001b[32m~/.local/share/uv/python/cpython-3.11.13-linux-x86_64-gnu/lib/python3.11/asyncio/tasks.py:277\u001b[39m, in \u001b[36mTask.__step\u001b[39m\u001b[34m(***failed resolving arguments***)\u001b[39m\n\u001b[32m    273\u001b[39m \u001b[38;5;28;01mtry\u001b[39;00m:\n\u001b[32m    274\u001b[39m     \u001b[38;5;28;01mif\u001b[39;00m exc \u001b[38;5;129;01mis\u001b[39;00m \u001b[38;5;28;01mNone\u001b[39;00m:\n\u001b[32m    275\u001b[39m         \u001b[38;5;66;03m# We use the `send` method directly, because coroutines\u001b[39;00m\n\u001b[32m    276\u001b[39m         \u001b[38;5;66;03m# don't have `__iter__` and `__next__` methods.\u001b[39;00m\n\u001b[32m--> \u001b[39m\u001b[32m277\u001b[39m         result = coro.send(\u001b[38;5;28;01mNone\u001b[39;00m)\n\u001b[32m    278\u001b[39m     \u001b[38;5;28;01melse\u001b[39;00m:\n\u001b[32m    279\u001b[39m         result = coro.throw(exc)\n",
                        "\u001b[36mFile \u001b[39m\u001b[32m/mnt/data/josyula/openpi/.venv/lib/python3.11/site-packages/orbax/checkpoint/_src/serialization/serialization.py:457\u001b[39m, in \u001b[36m_read_array_index_and_device_put\u001b[39m\u001b[34m(devices, index, t, global_shape, new_shard_shape, dtype, byte_limiter, strict, dll, memory_kind)\u001b[39m\n\u001b[32m    453\u001b[39m   \u001b[38;5;28;01mfor\u001b[39;00m device \u001b[38;5;129;01min\u001b[39;00m devices:\n\u001b[32m    454\u001b[39m     sharding = jax.sharding.SingleDeviceSharding(\n\u001b[32m    455\u001b[39m         device, memory_kind=memory_kind\n\u001b[32m    456\u001b[39m     )\n\u001b[32m--> \u001b[39m\u001b[32m457\u001b[39m     result.append(\u001b[43mjax\u001b[49m\u001b[43m.\u001b[49m\u001b[43mdevice_put\u001b[49m\u001b[43m(\u001b[49m\u001b[43mshard\u001b[49m\u001b[43m,\u001b[49m\u001b[43m \u001b[49m\u001b[43mLayout\u001b[49m\u001b[43m(\u001b[49m\u001b[43mdll\u001b[49m\u001b[43m,\u001b[49m\u001b[43m \u001b[49m\u001b[43msharding\u001b[49m\u001b[43m)\u001b[49m\u001b[43m)\u001b[49m)\n\u001b[32m    458\u001b[39m \u001b[38;5;28;01mreturn\u001b[39;00m result\n",
                        "\u001b[36mFile \u001b[39m\u001b[32m/mnt/data/josyula/openpi/.venv/lib/python3.11/site-packages/jax/_src/api.py:2376\u001b[39m, in \u001b[36mdevice_put\u001b[39m\u001b[34m(x, device, src, donate, may_alias)\u001b[39m\n\u001b[32m   2374\u001b[39m \u001b[38;5;28;01mfor\u001b[39;00m xf, d \u001b[38;5;129;01min\u001b[39;00m \u001b[38;5;28mzip\u001b[39m(x_flat, device_flat):\n\u001b[32m   2375\u001b[39m   _check_sharding(shaped_abstractify(xf), d)\n\u001b[32m-> \u001b[39m\u001b[32m2376\u001b[39m out_flat = \u001b[43mdispatch\u001b[49m\u001b[43m.\u001b[49m\u001b[43mdevice_put_p\u001b[49m\u001b[43m.\u001b[49m\u001b[43mbind\u001b[49m\u001b[43m(\u001b[49m\n\u001b[32m   2377\u001b[39m \u001b[43m    \u001b[49m\u001b[43m*\u001b[49m\u001b[43mx_flat\u001b[49m\u001b[43m,\u001b[49m\u001b[43m \u001b[49m\u001b[43mdevices\u001b[49m\u001b[43m=\u001b[49m\u001b[43mdevice_flat\u001b[49m\u001b[43m,\u001b[49m\u001b[43m \u001b[49m\u001b[43msrcs\u001b[49m\u001b[43m=\u001b[49m\u001b[43msrc_flat\u001b[49m\u001b[43m,\u001b[49m\n\u001b[32m   2378\u001b[39m \u001b[43m    \u001b[49m\u001b[43mcopy_semantics\u001b[49m\u001b[43m=\u001b[49m\u001b[43mcopy_semantics\u001b[49m\u001b[43m)\u001b[49m\n\u001b[32m   2379\u001b[39m \u001b[38;5;28;01mreturn\u001b[39;00m tree_unflatten(treedef, out_flat)\n",
                        "\u001b[36mFile \u001b[39m\u001b[32m/mnt/data/josyula/openpi/.venv/lib/python3.11/site-packages/jax/_src/core.py:502\u001b[39m, in \u001b[36mPrimitive.bind\u001b[39m\u001b[34m(self, *args, **params)\u001b[39m\n\u001b[32m    500\u001b[39m \u001b[38;5;28;01mdef\u001b[39;00m\u001b[38;5;250m \u001b[39m\u001b[34mbind\u001b[39m(\u001b[38;5;28mself\u001b[39m, *args, **params):\n\u001b[32m    501\u001b[39m   args = args \u001b[38;5;28;01mif\u001b[39;00m \u001b[38;5;28mself\u001b[39m.skip_canonicalization \u001b[38;5;28;01melse\u001b[39;00m \u001b[38;5;28mmap\u001b[39m(canonicalize_value, args)\n\u001b[32m--> \u001b[39m\u001b[32m502\u001b[39m   \u001b[38;5;28;01mreturn\u001b[39;00m \u001b[38;5;28;43mself\u001b[39;49m\u001b[43m.\u001b[49m\u001b[43m_true_bind\u001b[49m\u001b[43m(\u001b[49m\u001b[43m*\u001b[49m\u001b[43margs\u001b[49m\u001b[43m,\u001b[49m\u001b[43m \u001b[49m\u001b[43m*\u001b[49m\u001b[43m*\u001b[49m\u001b[43mparams\u001b[49m\u001b[43m)\u001b[49m\n",
                        "\u001b[36mFile \u001b[39m\u001b[32m/mnt/data/josyula/openpi/.venv/lib/python3.11/site-packages/jax/_src/core.py:520\u001b[39m, in \u001b[36mPrimitive._true_bind\u001b[39m\u001b[34m(self, *args, **params)\u001b[39m\n\u001b[32m    518\u001b[39m trace_ctx.set_trace(eval_trace)\n\u001b[32m    519\u001b[39m \u001b[38;5;28;01mtry\u001b[39;00m:\n\u001b[32m--> \u001b[39m\u001b[32m520\u001b[39m   \u001b[38;5;28;01mreturn\u001b[39;00m \u001b[38;5;28;43mself\u001b[39;49m\u001b[43m.\u001b[49m\u001b[43mbind_with_trace\u001b[49m\u001b[43m(\u001b[49m\u001b[43mprev_trace\u001b[49m\u001b[43m,\u001b[49m\u001b[43m \u001b[49m\u001b[43margs\u001b[49m\u001b[43m,\u001b[49m\u001b[43m \u001b[49m\u001b[43mparams\u001b[49m\u001b[43m)\u001b[49m\n\u001b[32m    521\u001b[39m \u001b[38;5;28;01mfinally\u001b[39;00m:\n\u001b[32m    522\u001b[39m   trace_ctx.set_trace(prev_trace)\n",
                        "\u001b[36mFile \u001b[39m\u001b[32m/mnt/data/josyula/openpi/.venv/lib/python3.11/site-packages/jax/_src/core.py:525\u001b[39m, in \u001b[36mPrimitive.bind_with_trace\u001b[39m\u001b[34m(self, trace, args, params)\u001b[39m\n\u001b[32m    524\u001b[39m \u001b[38;5;28;01mdef\u001b[39;00m\u001b[38;5;250m \u001b[39m\u001b[34mbind_with_trace\u001b[39m(\u001b[38;5;28mself\u001b[39m, trace, args, params):\n\u001b[32m--> \u001b[39m\u001b[32m525\u001b[39m   \u001b[38;5;28;01mreturn\u001b[39;00m \u001b[43mtrace\u001b[49m\u001b[43m.\u001b[49m\u001b[43mprocess_primitive\u001b[49m\u001b[43m(\u001b[49m\u001b[38;5;28;43mself\u001b[39;49m\u001b[43m,\u001b[49m\u001b[43m \u001b[49m\u001b[43margs\u001b[49m\u001b[43m,\u001b[49m\u001b[43m \u001b[49m\u001b[43mparams\u001b[49m\u001b[43m)\u001b[49m\n",
                        "\u001b[36mFile \u001b[39m\u001b[32m/mnt/data/josyula/openpi/.venv/lib/python3.11/site-packages/jax/_src/core.py:1029\u001b[39m, in \u001b[36mEvalTrace.process_primitive\u001b[39m\u001b[34m(self, primitive, args, params)\u001b[39m\n\u001b[32m   1027\u001b[39m       \u001b[38;5;28;01mreturn\u001b[39;00m primitive.bind_with_trace(arg._trace, args, params)\n\u001b[32m   1028\u001b[39m check_eval_args(args)\n\u001b[32m-> \u001b[39m\u001b[32m1029\u001b[39m \u001b[38;5;28;01mreturn\u001b[39;00m \u001b[43mprimitive\u001b[49m\u001b[43m.\u001b[49m\u001b[43mimpl\u001b[49m\u001b[43m(\u001b[49m\u001b[43m*\u001b[49m\u001b[43margs\u001b[49m\u001b[43m,\u001b[49m\u001b[43m \u001b[49m\u001b[43m*\u001b[49m\u001b[43m*\u001b[49m\u001b[43mparams\u001b[49m\u001b[43m)\u001b[49m\n",
                        "\u001b[36mFile \u001b[39m\u001b[32m/mnt/data/josyula/openpi/.venv/lib/python3.11/site-packages/jax/_src/dispatch.py:566\u001b[39m, in \u001b[36m_batched_device_put_impl\u001b[39m\u001b[34m(devices, srcs, copy_semantics, *xs)\u001b[39m\n\u001b[32m    559\u001b[39m   ys.append(y)\n\u001b[32m    561\u001b[39m \u001b[38;5;28;01mif\u001b[39;00m dsa_xs:\n\u001b[32m    562\u001b[39m   \u001b[38;5;66;03m# Batch shard_arg calls. Helps improve efficiency for backends that support\u001b[39;00m\n\u001b[32m    563\u001b[39m   \u001b[38;5;66;03m# efficient batch transfer.\u001b[39;00m\n\u001b[32m    564\u001b[39m   \u001b[38;5;66;03m# device_put handles `Layout` via a different path, so just pass `None` as\u001b[39;00m\n\u001b[32m    565\u001b[39m   \u001b[38;5;66;03m# the layout here.\u001b[39;00m\n\u001b[32m--> \u001b[39m\u001b[32m566\u001b[39m   shard_arg_results = \u001b[43mpxla\u001b[49m\u001b[43m.\u001b[49m\u001b[43mshard_args\u001b[49m\u001b[43m(\u001b[49m\u001b[43mdsa_shardings\u001b[49m\u001b[43m,\u001b[49m\u001b[43m \u001b[49m\u001b[43m[\u001b[49m\u001b[38;5;28;43;01mNone\u001b[39;49;00m\u001b[43m]\u001b[49m\u001b[43m \u001b[49m\u001b[43m*\u001b[49m\u001b[43m \u001b[49m\u001b[38;5;28;43mlen\u001b[39;49m\u001b[43m(\u001b[49m\u001b[43mdsa_xs\u001b[49m\u001b[43m)\u001b[49m\u001b[43m,\u001b[49m\n\u001b[32m    567\u001b[39m \u001b[43m                                      \u001b[49m\u001b[43mdsa_copy_semantics\u001b[49m\u001b[43m,\u001b[49m\u001b[43m \u001b[49m\u001b[43mdsa_xs\u001b[49m\u001b[43m)\u001b[49m\n\u001b[32m    568\u001b[39m   \u001b[38;5;28;01mfor\u001b[39;00m i, shard_arg_result \u001b[38;5;129;01min\u001b[39;00m \u001b[38;5;28mzip\u001b[39m(dsa_indices, shard_arg_results):\n\u001b[32m    569\u001b[39m     \u001b[38;5;28;01massert\u001b[39;00m \u001b[38;5;28misinstance\u001b[39m(ys[i], _DeferredShardArg)\n",
                        "\u001b[36mFile \u001b[39m\u001b[32m/mnt/data/josyula/openpi/.venv/lib/python3.11/site-packages/jax/_src/profiler.py:334\u001b[39m, in \u001b[36mannotate_function.<locals>.wrapper\u001b[39m\u001b[34m(*args, **kwargs)\u001b[39m\n\u001b[32m    331\u001b[39m \u001b[38;5;129m@wraps\u001b[39m(func)\n\u001b[32m    332\u001b[39m \u001b[38;5;28;01mdef\u001b[39;00m\u001b[38;5;250m \u001b[39m\u001b[34mwrapper\u001b[39m(*args, **kwargs):\n\u001b[32m    333\u001b[39m   \u001b[38;5;28;01mwith\u001b[39;00m TraceAnnotation(name, **decorator_kwargs):\n\u001b[32m--> \u001b[39m\u001b[32m334\u001b[39m     \u001b[38;5;28;01mreturn\u001b[39;00m \u001b[43mfunc\u001b[49m\u001b[43m(\u001b[49m\u001b[43m*\u001b[49m\u001b[43margs\u001b[49m\u001b[43m,\u001b[49m\u001b[43m \u001b[49m\u001b[43m*\u001b[49m\u001b[43m*\u001b[49m\u001b[43mkwargs\u001b[49m\u001b[43m)\u001b[49m\n\u001b[32m    335\u001b[39m   \u001b[38;5;28;01mreturn\u001b[39;00m wrapper\n",
                        "\u001b[36mFile \u001b[39m\u001b[32m/mnt/data/josyula/openpi/.venv/lib/python3.11/site-packages/jax/_src/interpreters/pxla.py:134\u001b[39m, in \u001b[36mshard_args\u001b[39m\u001b[34m(***failed resolving arguments***)\u001b[39m\n\u001b[32m    132\u001b[39m   \u001b[38;5;28;01mif\u001b[39;00m canonicalize:\n\u001b[32m    133\u001b[39m     arg = xla.canonicalize_dtype(arg)\n\u001b[32m--> \u001b[39m\u001b[32m134\u001b[39m   \u001b[38;5;28;01mreturn\u001b[39;00m \u001b[43mshard_arg_handlers\u001b[49m\u001b[43m[\u001b[49m\u001b[38;5;28;43mtype\u001b[39;49m\u001b[43m(\u001b[49m\u001b[43marg\u001b[49m\u001b[43m)\u001b[49m\u001b[43m]\u001b[49m\u001b[43m(\u001b[49m\u001b[43m[\u001b[49m\u001b[43marg\u001b[49m\u001b[43m]\u001b[49m\u001b[43m,\u001b[49m\u001b[43m \u001b[49m\u001b[43mshardings\u001b[49m\u001b[43m,\u001b[49m\u001b[43m \u001b[49m\u001b[43mlayouts\u001b[49m\u001b[43m,\u001b[49m\n\u001b[32m    135\u001b[39m \u001b[43m                                       \u001b[49m\u001b[43mxc_copy_semantics\u001b[49m\u001b[43m)\u001b[49m\n\u001b[32m    137\u001b[39m \u001b[38;5;66;03m# type(arg) -> (list[indices], list[args], list[shardings], list[layouts],\u001b[39;00m\n\u001b[32m    138\u001b[39m \u001b[38;5;66;03m#               list[copy_semantics])\u001b[39;00m\n\u001b[32m    139\u001b[39m batches = collections.defaultdict(\u001b[38;5;28;01mlambda\u001b[39;00m: ([], [], [], [], []))  \u001b[38;5;66;03m# type: ignore\u001b[39;00m\n",
                        "\u001b[36mFile \u001b[39m\u001b[32m/mnt/data/josyula/openpi/.venv/lib/python3.11/site-packages/jax/_src/interpreters/pxla.py:216\u001b[39m, in \u001b[36m_shard_np_array\u001b[39m\u001b[34m(xs, shardings, layouts, copy_semantics)\u001b[39m\n\u001b[32m    214\u001b[39m       indices = \u001b[38;5;28mtuple\u001b[39m(sharding.addressable_devices_indices_map(x.shape).values())\n\u001b[32m    215\u001b[39m       shards = [x[i] \u001b[38;5;28;01mfor\u001b[39;00m i \u001b[38;5;129;01min\u001b[39;00m indices]\n\u001b[32m--> \u001b[39m\u001b[32m216\u001b[39m     results.append(\u001b[43mbatched_device_put\u001b[49m\u001b[43m(\u001b[49m\u001b[43maval\u001b[49m\u001b[43m,\u001b[49m\u001b[43m \u001b[49m\u001b[43msharding\u001b[49m\u001b[43m,\u001b[49m\u001b[43m \u001b[49m\u001b[43mshards\u001b[49m\u001b[43m,\u001b[49m\u001b[43m \u001b[49m\u001b[43mdevices\u001b[49m\u001b[43m)\u001b[49m)\n\u001b[32m    217\u001b[39m \u001b[38;5;28;01mreturn\u001b[39;00m results\n",
                        "\u001b[36mFile \u001b[39m\u001b[32m/mnt/data/josyula/openpi/.venv/lib/python3.11/site-packages/jax/_src/interpreters/pxla.py:243\u001b[39m, in \u001b[36mbatched_device_put\u001b[39m\u001b[34m(aval, sharding, xs, devices, committed)\u001b[39m\n\u001b[32m    240\u001b[39m   \u001b[38;5;28;01mif\u001b[39;00m \u001b[38;5;28mlen\u001b[39m(bufs) == \u001b[38;5;28mlen\u001b[39m(xs) > \u001b[32m0\u001b[39m:\n\u001b[32m    241\u001b[39m     \u001b[38;5;28;01mreturn\u001b[39;00m array.ArrayImpl(\n\u001b[32m    242\u001b[39m         aval, sharding, bufs, committed=committed, _skip_checks=\u001b[38;5;28;01mTrue\u001b[39;00m)\n\u001b[32m--> \u001b[39m\u001b[32m243\u001b[39m   \u001b[38;5;28;01mreturn\u001b[39;00m \u001b[43mxc\u001b[49m\u001b[43m.\u001b[49m\u001b[43mbatched_device_put\u001b[49m\u001b[43m(\u001b[49m\u001b[43maval\u001b[49m\u001b[43m,\u001b[49m\u001b[43m \u001b[49m\u001b[43msharding\u001b[49m\u001b[43m,\u001b[49m\u001b[43m \u001b[49m\u001b[43mxs\u001b[49m\u001b[43m,\u001b[49m\u001b[43m \u001b[49m\u001b[38;5;28;43mlist\u001b[39;49m\u001b[43m(\u001b[49m\u001b[43mdevices\u001b[49m\u001b[43m)\u001b[49m\u001b[43m,\u001b[49m\u001b[43m \u001b[49m\u001b[43mcommitted\u001b[49m\u001b[43m)\u001b[49m\n\u001b[32m    244\u001b[39m \u001b[38;5;28;01mfinally\u001b[39;00m:\n\u001b[32m    245\u001b[39m   util.test_event(\u001b[33m\"\u001b[39m\u001b[33mbatched_device_put_end\u001b[39m\u001b[33m\"\u001b[39m)\n",
                        "\u001b[31mXlaRuntimeError\u001b[39m: RESOURCE_EXHAUSTED: Out of memory while trying to allocate 2106589184 bytes."
                    ]
                },
                {
                    "name": "stdout",
                    "output_type": "stream",
                    "text": [
                        "> \u001b[32m/mnt/data/josyula/openpi/.venv/lib/python3.11/site-packages/jax/_src/interpreters/pxla.py\u001b[39m(\u001b[92m243\u001b[39m)\u001b[36mbatched_device_put\u001b[39m\u001b[34m()\u001b[39m\n",
                        "\u001b[32m    241\u001b[39m       return array.ArrayImpl(\n",
                        "\u001b[32m    242\u001b[39m           aval, sharding, bufs, committed=committed, _skip_checks=True)\n",
                        "\u001b[32m--> 243\u001b[39m     \u001b[38;5;28;01mreturn\u001b[39;00m xc.batched_device_put(aval, sharding, xs, list(devices), committed)\n",
                        "\u001b[32m    244\u001b[39m   \u001b[38;5;28;01mfinally\u001b[39;00m:\n",
                        "\u001b[32m    245\u001b[39m     util.test_event(\u001b[33m\"batched_device_put_end\"\u001b[39m)\n",
                        "\n"
                    ]
                }
            ],
            "source": [
                "# config = _config.get_config(\"pi0_aloha_sim\")\n",
                "\n",
                "# checkpoint_dir = download.maybe_download(\"gs://openpi-assets/checkpoints/pi0_aloha_sim\")\n",
                "# key = jax.random.key(0)\n",
                "\n",
                "# # Create a model from the checkpoint.\n",
                "# model = config.model.load(_model.restore_params(checkpoint_dir / \"params\"))\n",
                "\n",
                "# # We can create fake observations and actions to test the model.\n",
                "# obs, act = config.model.fake_obs(), config.model.fake_act()\n",
                "\n",
                "# # Sample actions from the model.\n",
                "# loss = model.compute_loss(key, obs, act)\n",
                "# print(\"Loss shape:\", loss.shape)"
            ]
        },
        {
            "cell_type": "markdown",
            "metadata": {},
            "source": [
                "Now, we are going to create a data loader and use a real batch of training data to compute the loss."
            ]
        },
        {
            "cell_type": "code",
            "execution_count": null,
            "metadata": {},
            "outputs": [],
            "source": [
                "# Reduce the batch size to reduce memory usage.\n",
                "config = dataclasses.replace(config, batch_size=2)\n",
                "\n",
                "# Load a single batch of data. This is the same data that will be used during training.\n",
                "# NOTE: In order to make this example self-contained, we are skipping the normalization step\n",
                "# since it requires the normalization statistics to be generated using `compute_norm_stats`.\n",
                "loader = _data_loader.create_data_loader(config, num_batches=1, skip_norm_stats=True)\n",
                "obs, act = next(iter(loader))\n",
                "\n",
                "# Sample actions from the model.\n",
                "loss = model.compute_loss(key, obs, act)\n",
                "\n",
                "# Delete the model to free up memory.\n",
                "del model\n",
                "\n",
                "print(\"Loss shape:\", loss.shape)"
            ]
        }
    ],
    "metadata": {
        "kernelspec": {
            "display_name": ".venv",
            "language": "python",
            "name": "python3"
        },
        "language_info": {
            "codemirror_mode": {
                "name": "ipython",
                "version": 3
            },
            "file_extension": ".py",
            "mimetype": "text/x-python",
            "name": "python",
            "nbconvert_exporter": "python",
            "pygments_lexer": "ipython3",
            "version": "3.11.13"
        }
    },
    "nbformat": 4,
    "nbformat_minor": 2
}
